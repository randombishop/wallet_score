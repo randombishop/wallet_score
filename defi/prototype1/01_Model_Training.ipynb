{
 "cells": [
  {
   "cell_type": "code",
   "execution_count": 1,
   "id": "0a7b82e8",
   "metadata": {},
   "outputs": [],
   "source": [
    "import pandas\n",
    "from sklearn import metrics\n",
    "from elasticsearch import Elasticsearch\n",
    "import time\n",
    "import gc\n",
    "import random\n",
    "import xgboost as xgb\n",
    "import json"
   ]
  },
  {
   "cell_type": "code",
   "execution_count": null,
   "id": "df378186",
   "metadata": {},
   "outputs": [],
   "source": []
  },
  {
   "cell_type": "code",
   "execution_count": 2,
   "id": "e6623e6f",
   "metadata": {},
   "outputs": [
    {
     "data": {
      "text/html": [
       "<div>\n",
       "<style scoped>\n",
       "    .dataframe tbody tr th:only-of-type {\n",
       "        vertical-align: middle;\n",
       "    }\n",
       "\n",
       "    .dataframe tbody tr th {\n",
       "        vertical-align: top;\n",
       "    }\n",
       "\n",
       "    .dataframe thead th {\n",
       "        text-align: right;\n",
       "    }\n",
       "</style>\n",
       "<table border=\"1\" class=\"dataframe\">\n",
       "  <thead>\n",
       "    <tr style=\"text-align: right;\">\n",
       "      <th></th>\n",
       "      <th>borrower</th>\n",
       "      <th>snapshot</th>\n",
       "      <th>project</th>\n",
       "      <th>2u_defix</th>\n",
       "      <th>2v_04</th>\n",
       "      <th>2w_1</th>\n",
       "      <th>2a_03u_defix</th>\n",
       "      <th>2a_03v_04</th>\n",
       "      <th>2a_03w_1</th>\n",
       "      <th>2b_05</th>\n",
       "      <th>...</th>\n",
       "      <th>2s_t_9ff58f4ffb29fa2</th>\n",
       "      <th>2s_t_ffc97d72e13e010</th>\n",
       "      <th>2s_t_a06bc25b5805d5f</th>\n",
       "      <th>2s_t_6c3c78838c761c6</th>\n",
       "      <th>2s_a_04v_02</th>\n",
       "      <th>2s_a_02t_3b484b82567a09e</th>\n",
       "      <th>2a_03t_35a18000230da77</th>\n",
       "      <th>2s_a_03t_ae7ab96520de3a1</th>\n",
       "      <th>origin</th>\n",
       "      <th>label</th>\n",
       "    </tr>\n",
       "  </thead>\n",
       "  <tbody>\n",
       "    <tr>\n",
       "      <th>0</th>\n",
       "      <td>0xe8215f5aee29a1db273c80c9d269e8fa44b39126</td>\n",
       "      <td>2021-02</td>\n",
       "      <td>Aave</td>\n",
       "      <td>77.0</td>\n",
       "      <td>39.0</td>\n",
       "      <td>80.0</td>\n",
       "      <td>16.0</td>\n",
       "      <td>11.0</td>\n",
       "      <td>18.0</td>\n",
       "      <td>11.0</td>\n",
       "      <td>...</td>\n",
       "      <td>NaN</td>\n",
       "      <td>NaN</td>\n",
       "      <td>NaN</td>\n",
       "      <td>NaN</td>\n",
       "      <td>NaN</td>\n",
       "      <td>NaN</td>\n",
       "      <td>NaN</td>\n",
       "      <td>NaN</td>\n",
       "      <td>True</td>\n",
       "      <td>0</td>\n",
       "    </tr>\n",
       "    <tr>\n",
       "      <th>1</th>\n",
       "      <td>0xf8219bd4d474a8ed9e4041d6cae01467f3ee1e56</td>\n",
       "      <td>2022-05</td>\n",
       "      <td>Aave</td>\n",
       "      <td>22.0</td>\n",
       "      <td>15.0</td>\n",
       "      <td>50.0</td>\n",
       "      <td>2.0</td>\n",
       "      <td>2.0</td>\n",
       "      <td>7.0</td>\n",
       "      <td>1.0</td>\n",
       "      <td>...</td>\n",
       "      <td>NaN</td>\n",
       "      <td>NaN</td>\n",
       "      <td>NaN</td>\n",
       "      <td>NaN</td>\n",
       "      <td>NaN</td>\n",
       "      <td>NaN</td>\n",
       "      <td>NaN</td>\n",
       "      <td>NaN</td>\n",
       "      <td>True</td>\n",
       "      <td>0</td>\n",
       "    </tr>\n",
       "    <tr>\n",
       "      <th>2</th>\n",
       "      <td>0xf9a6ed52c4988580954672aa91a1d5eb229e5c78</td>\n",
       "      <td>2021-10</td>\n",
       "      <td>Aave</td>\n",
       "      <td>16.0</td>\n",
       "      <td>42.0</td>\n",
       "      <td>78.0</td>\n",
       "      <td>3.0</td>\n",
       "      <td>5.0</td>\n",
       "      <td>8.0</td>\n",
       "      <td>9.0</td>\n",
       "      <td>...</td>\n",
       "      <td>NaN</td>\n",
       "      <td>NaN</td>\n",
       "      <td>NaN</td>\n",
       "      <td>NaN</td>\n",
       "      <td>NaN</td>\n",
       "      <td>NaN</td>\n",
       "      <td>NaN</td>\n",
       "      <td>NaN</td>\n",
       "      <td>True</td>\n",
       "      <td>0</td>\n",
       "    </tr>\n",
       "    <tr>\n",
       "      <th>3</th>\n",
       "      <td>0x8032244b3b41b487d8de22363bc436e869e6859f</td>\n",
       "      <td>2022-06</td>\n",
       "      <td>Aave</td>\n",
       "      <td>26.0</td>\n",
       "      <td>16.0</td>\n",
       "      <td>60.0</td>\n",
       "      <td>2.0</td>\n",
       "      <td>3.0</td>\n",
       "      <td>13.0</td>\n",
       "      <td>4.0</td>\n",
       "      <td>...</td>\n",
       "      <td>NaN</td>\n",
       "      <td>NaN</td>\n",
       "      <td>NaN</td>\n",
       "      <td>NaN</td>\n",
       "      <td>NaN</td>\n",
       "      <td>NaN</td>\n",
       "      <td>NaN</td>\n",
       "      <td>NaN</td>\n",
       "      <td>False</td>\n",
       "      <td>1</td>\n",
       "    </tr>\n",
       "    <tr>\n",
       "      <th>4</th>\n",
       "      <td>0x8032244b3b41b487d8de22363bc436e869e6859f</td>\n",
       "      <td>2022-03</td>\n",
       "      <td>Aave</td>\n",
       "      <td>20.0</td>\n",
       "      <td>4.0</td>\n",
       "      <td>28.0</td>\n",
       "      <td>2.0</td>\n",
       "      <td>2.0</td>\n",
       "      <td>2.0</td>\n",
       "      <td>1.0</td>\n",
       "      <td>...</td>\n",
       "      <td>NaN</td>\n",
       "      <td>NaN</td>\n",
       "      <td>NaN</td>\n",
       "      <td>NaN</td>\n",
       "      <td>NaN</td>\n",
       "      <td>NaN</td>\n",
       "      <td>NaN</td>\n",
       "      <td>NaN</td>\n",
       "      <td>True</td>\n",
       "      <td>0</td>\n",
       "    </tr>\n",
       "    <tr>\n",
       "      <th>...</th>\n",
       "      <td>...</td>\n",
       "      <td>...</td>\n",
       "      <td>...</td>\n",
       "      <td>...</td>\n",
       "      <td>...</td>\n",
       "      <td>...</td>\n",
       "      <td>...</td>\n",
       "      <td>...</td>\n",
       "      <td>...</td>\n",
       "      <td>...</td>\n",
       "      <td>...</td>\n",
       "      <td>...</td>\n",
       "      <td>...</td>\n",
       "      <td>...</td>\n",
       "      <td>...</td>\n",
       "      <td>...</td>\n",
       "      <td>...</td>\n",
       "      <td>...</td>\n",
       "      <td>...</td>\n",
       "      <td>...</td>\n",
       "      <td>...</td>\n",
       "    </tr>\n",
       "    <tr>\n",
       "      <th>204730</th>\n",
       "      <td>0x0524fe637b77a6f5f0b3a024f7fd9fe1e688a291</td>\n",
       "      <td>2022-07</td>\n",
       "      <td>Compound</td>\n",
       "      <td>385.0</td>\n",
       "      <td>155.0</td>\n",
       "      <td>331.0</td>\n",
       "      <td>86.0</td>\n",
       "      <td>38.0</td>\n",
       "      <td>59.0</td>\n",
       "      <td>11.0</td>\n",
       "      <td>...</td>\n",
       "      <td>NaN</td>\n",
       "      <td>NaN</td>\n",
       "      <td>NaN</td>\n",
       "      <td>NaN</td>\n",
       "      <td>NaN</td>\n",
       "      <td>NaN</td>\n",
       "      <td>NaN</td>\n",
       "      <td>NaN</td>\n",
       "      <td>False</td>\n",
       "      <td>0</td>\n",
       "    </tr>\n",
       "    <tr>\n",
       "      <th>204731</th>\n",
       "      <td>0x0524fe637b77a6f5f0b3a024f7fd9fe1e688a291</td>\n",
       "      <td>2022-08</td>\n",
       "      <td>Compound</td>\n",
       "      <td>398.0</td>\n",
       "      <td>158.0</td>\n",
       "      <td>343.0</td>\n",
       "      <td>87.0</td>\n",
       "      <td>38.0</td>\n",
       "      <td>60.0</td>\n",
       "      <td>11.0</td>\n",
       "      <td>...</td>\n",
       "      <td>NaN</td>\n",
       "      <td>NaN</td>\n",
       "      <td>NaN</td>\n",
       "      <td>NaN</td>\n",
       "      <td>NaN</td>\n",
       "      <td>NaN</td>\n",
       "      <td>NaN</td>\n",
       "      <td>NaN</td>\n",
       "      <td>False</td>\n",
       "      <td>0</td>\n",
       "    </tr>\n",
       "    <tr>\n",
       "      <th>204732</th>\n",
       "      <td>0x0524fe637b77a6f5f0b3a024f7fd9fe1e688a291</td>\n",
       "      <td>2022-09</td>\n",
       "      <td>Compound</td>\n",
       "      <td>409.0</td>\n",
       "      <td>161.0</td>\n",
       "      <td>353.0</td>\n",
       "      <td>91.0</td>\n",
       "      <td>39.0</td>\n",
       "      <td>63.0</td>\n",
       "      <td>11.0</td>\n",
       "      <td>...</td>\n",
       "      <td>NaN</td>\n",
       "      <td>NaN</td>\n",
       "      <td>NaN</td>\n",
       "      <td>NaN</td>\n",
       "      <td>NaN</td>\n",
       "      <td>NaN</td>\n",
       "      <td>NaN</td>\n",
       "      <td>NaN</td>\n",
       "      <td>False</td>\n",
       "      <td>0</td>\n",
       "    </tr>\n",
       "    <tr>\n",
       "      <th>204733</th>\n",
       "      <td>0x5f75fb6104ac8ce72879347db1041adf2f7745d6</td>\n",
       "      <td>2021-07</td>\n",
       "      <td>Compound</td>\n",
       "      <td>28.0</td>\n",
       "      <td>14.0</td>\n",
       "      <td>45.0</td>\n",
       "      <td>8.0</td>\n",
       "      <td>3.0</td>\n",
       "      <td>11.0</td>\n",
       "      <td>3.0</td>\n",
       "      <td>...</td>\n",
       "      <td>NaN</td>\n",
       "      <td>1.0</td>\n",
       "      <td>NaN</td>\n",
       "      <td>1.0</td>\n",
       "      <td>NaN</td>\n",
       "      <td>NaN</td>\n",
       "      <td>NaN</td>\n",
       "      <td>NaN</td>\n",
       "      <td>True</td>\n",
       "      <td>0</td>\n",
       "    </tr>\n",
       "    <tr>\n",
       "      <th>204734</th>\n",
       "      <td>0x6e0fd226e8821c2d8f0674894a7a9d62fc4ada52</td>\n",
       "      <td>2022-06</td>\n",
       "      <td>Aave</td>\n",
       "      <td>NaN</td>\n",
       "      <td>NaN</td>\n",
       "      <td>NaN</td>\n",
       "      <td>NaN</td>\n",
       "      <td>NaN</td>\n",
       "      <td>NaN</td>\n",
       "      <td>NaN</td>\n",
       "      <td>...</td>\n",
       "      <td>NaN</td>\n",
       "      <td>NaN</td>\n",
       "      <td>NaN</td>\n",
       "      <td>NaN</td>\n",
       "      <td>NaN</td>\n",
       "      <td>NaN</td>\n",
       "      <td>NaN</td>\n",
       "      <td>NaN</td>\n",
       "      <td>True</td>\n",
       "      <td>0</td>\n",
       "    </tr>\n",
       "  </tbody>\n",
       "</table>\n",
       "<p>204735 rows × 405 columns</p>\n",
       "</div>"
      ],
      "text/plain": [
       "                                          borrower snapshot   project  \\\n",
       "0       0xe8215f5aee29a1db273c80c9d269e8fa44b39126  2021-02      Aave   \n",
       "1       0xf8219bd4d474a8ed9e4041d6cae01467f3ee1e56  2022-05      Aave   \n",
       "2       0xf9a6ed52c4988580954672aa91a1d5eb229e5c78  2021-10      Aave   \n",
       "3       0x8032244b3b41b487d8de22363bc436e869e6859f  2022-06      Aave   \n",
       "4       0x8032244b3b41b487d8de22363bc436e869e6859f  2022-03      Aave   \n",
       "...                                            ...      ...       ...   \n",
       "204730  0x0524fe637b77a6f5f0b3a024f7fd9fe1e688a291  2022-07  Compound   \n",
       "204731  0x0524fe637b77a6f5f0b3a024f7fd9fe1e688a291  2022-08  Compound   \n",
       "204732  0x0524fe637b77a6f5f0b3a024f7fd9fe1e688a291  2022-09  Compound   \n",
       "204733  0x5f75fb6104ac8ce72879347db1041adf2f7745d6  2021-07  Compound   \n",
       "204734  0x6e0fd226e8821c2d8f0674894a7a9d62fc4ada52  2022-06      Aave   \n",
       "\n",
       "        2u_defix  2v_04   2w_1  2a_03u_defix  2a_03v_04  2a_03w_1  2b_05  ...  \\\n",
       "0           77.0   39.0   80.0          16.0       11.0      18.0   11.0  ...   \n",
       "1           22.0   15.0   50.0           2.0        2.0       7.0    1.0  ...   \n",
       "2           16.0   42.0   78.0           3.0        5.0       8.0    9.0  ...   \n",
       "3           26.0   16.0   60.0           2.0        3.0      13.0    4.0  ...   \n",
       "4           20.0    4.0   28.0           2.0        2.0       2.0    1.0  ...   \n",
       "...          ...    ...    ...           ...        ...       ...    ...  ...   \n",
       "204730     385.0  155.0  331.0          86.0       38.0      59.0   11.0  ...   \n",
       "204731     398.0  158.0  343.0          87.0       38.0      60.0   11.0  ...   \n",
       "204732     409.0  161.0  353.0          91.0       39.0      63.0   11.0  ...   \n",
       "204733      28.0   14.0   45.0           8.0        3.0      11.0    3.0  ...   \n",
       "204734       NaN    NaN    NaN           NaN        NaN       NaN    NaN  ...   \n",
       "\n",
       "        2s_t_9ff58f4ffb29fa2  2s_t_ffc97d72e13e010  2s_t_a06bc25b5805d5f  \\\n",
       "0                        NaN                   NaN                   NaN   \n",
       "1                        NaN                   NaN                   NaN   \n",
       "2                        NaN                   NaN                   NaN   \n",
       "3                        NaN                   NaN                   NaN   \n",
       "4                        NaN                   NaN                   NaN   \n",
       "...                      ...                   ...                   ...   \n",
       "204730                   NaN                   NaN                   NaN   \n",
       "204731                   NaN                   NaN                   NaN   \n",
       "204732                   NaN                   NaN                   NaN   \n",
       "204733                   NaN                   1.0                   NaN   \n",
       "204734                   NaN                   NaN                   NaN   \n",
       "\n",
       "        2s_t_6c3c78838c761c6  2s_a_04v_02  2s_a_02t_3b484b82567a09e  \\\n",
       "0                        NaN          NaN                       NaN   \n",
       "1                        NaN          NaN                       NaN   \n",
       "2                        NaN          NaN                       NaN   \n",
       "3                        NaN          NaN                       NaN   \n",
       "4                        NaN          NaN                       NaN   \n",
       "...                      ...          ...                       ...   \n",
       "204730                   NaN          NaN                       NaN   \n",
       "204731                   NaN          NaN                       NaN   \n",
       "204732                   NaN          NaN                       NaN   \n",
       "204733                   1.0          NaN                       NaN   \n",
       "204734                   NaN          NaN                       NaN   \n",
       "\n",
       "        2a_03t_35a18000230da77  2s_a_03t_ae7ab96520de3a1  origin  label  \n",
       "0                          NaN                       NaN    True      0  \n",
       "1                          NaN                       NaN    True      0  \n",
       "2                          NaN                       NaN    True      0  \n",
       "3                          NaN                       NaN   False      1  \n",
       "4                          NaN                       NaN    True      0  \n",
       "...                        ...                       ...     ...    ...  \n",
       "204730                     NaN                       NaN   False      0  \n",
       "204731                     NaN                       NaN   False      0  \n",
       "204732                     NaN                       NaN   False      0  \n",
       "204733                     NaN                       NaN    True      0  \n",
       "204734                     NaN                       NaN    True      0  \n",
       "\n",
       "[204735 rows x 405 columns]"
      ]
     },
     "execution_count": 2,
     "metadata": {},
     "output_type": "execute_result"
    }
   ],
   "source": [
    "df = pandas.read_csv('data/dataset_400features.csv')\n",
    "df"
   ]
  },
  {
   "cell_type": "code",
   "execution_count": 3,
   "id": "1e6c121a",
   "metadata": {},
   "outputs": [],
   "source": [
    "not_features = [\n",
    "    'borrower',\n",
    "    'snapshot',\n",
    "    'project',\n",
    "    'origin',\n",
    "    'label'\n",
    "]"
   ]
  },
  {
   "cell_type": "code",
   "execution_count": 4,
   "id": "8938bf78",
   "metadata": {},
   "outputs": [
    {
     "data": {
      "text/plain": [
       "400"
      ]
     },
     "execution_count": 4,
     "metadata": {},
     "output_type": "execute_result"
    }
   ],
   "source": [
    "fs = [x for x in df.columns if x not in not_features]\n",
    "len(fs)"
   ]
  },
  {
   "cell_type": "code",
   "execution_count": 5,
   "id": "173b94e0",
   "metadata": {},
   "outputs": [
    {
     "data": {
      "text/plain": [
       "58232"
      ]
     },
     "execution_count": 5,
     "metadata": {},
     "output_type": "execute_result"
    }
   ],
   "source": [
    "list_address = set(df['borrower'].unique())\n",
    "len(list_address)"
   ]
  },
  {
   "cell_type": "code",
   "execution_count": 6,
   "id": "43ff22f3",
   "metadata": {},
   "outputs": [
    {
     "data": {
      "text/plain": [
       "42619"
      ]
     },
     "execution_count": 6,
     "metadata": {},
     "output_type": "execute_result"
    }
   ],
   "source": [
    "list_address_aave = set(df[df['project']=='Aave']['borrower'].unique())\n",
    "len(list_address_aave)"
   ]
  },
  {
   "cell_type": "code",
   "execution_count": 7,
   "id": "d7b83565",
   "metadata": {},
   "outputs": [
    {
     "data": {
      "text/plain": [
       "20652"
      ]
     },
     "execution_count": 7,
     "metadata": {},
     "output_type": "execute_result"
    }
   ],
   "source": [
    "list_address_compound = set(df[df['project']=='Compound']['borrower'].unique())\n",
    "len(list_address_compound)"
   ]
  },
  {
   "cell_type": "code",
   "execution_count": 8,
   "id": "57370102",
   "metadata": {},
   "outputs": [
    {
     "data": {
      "text/plain": [
       "5039"
      ]
     },
     "execution_count": 8,
     "metadata": {},
     "output_type": "execute_result"
    }
   ],
   "source": [
    "list_address_common = [x for x in list_address_aave if x in list_address_compound]\n",
    "len(list_address_common)"
   ]
  },
  {
   "cell_type": "code",
   "execution_count": null,
   "id": "04e5aa2d",
   "metadata": {},
   "outputs": [],
   "source": []
  },
  {
   "cell_type": "code",
   "execution_count": null,
   "id": "f82e3e59",
   "metadata": {},
   "outputs": [],
   "source": []
  },
  {
   "cell_type": "code",
   "execution_count": 9,
   "id": "aa35e14a",
   "metadata": {},
   "outputs": [
    {
     "data": {
      "text/plain": [
       "80784"
      ]
     },
     "execution_count": 9,
     "metadata": {},
     "output_type": "execute_result"
    }
   ],
   "source": [
    "df_train = df[(df['project']=='Aave') & (~df['borrower'].isin(list_address_common)) & (df['snapshot']<'2022-05')]\n",
    "len(df_train)"
   ]
  },
  {
   "cell_type": "code",
   "execution_count": 10,
   "id": "e28d0caa",
   "metadata": {},
   "outputs": [
    {
     "data": {
      "text/plain": [
       "9575"
      ]
     },
     "execution_count": 10,
     "metadata": {},
     "output_type": "execute_result"
    }
   ],
   "source": [
    "df_valid = df[(df['project']=='Aave') & (df['snapshot']=='2022-05')]\n",
    "len(df_valid)"
   ]
  },
  {
   "cell_type": "code",
   "execution_count": 11,
   "id": "09bf3412",
   "metadata": {},
   "outputs": [],
   "source": [
    "dtrain = xgb.DMatrix(df_train[fs], df_train['label'])\n",
    "dvalid = xgb.DMatrix(df_valid[fs], df_valid['label'])\n"
   ]
  },
  {
   "cell_type": "code",
   "execution_count": null,
   "id": "758cc621",
   "metadata": {},
   "outputs": [],
   "source": []
  },
  {
   "cell_type": "code",
   "execution_count": 12,
   "id": "af075fe5",
   "metadata": {},
   "outputs": [],
   "source": [
    "eval_list = [(dtrain, 'train'), (dvalid, 'valid')]"
   ]
  },
  {
   "cell_type": "code",
   "execution_count": 13,
   "id": "fb732eb9",
   "metadata": {},
   "outputs": [],
   "source": [
    "params = {\n",
    "    'seed': 123,\n",
    "    'max_depth': 6, \n",
    "    'eta': 0.01, \n",
    "    'min_child_weight': 50,\n",
    "    'eval_metric': 'auc',\n",
    "    'objective': 'binary:logistic'\n",
    "}\n",
    "num_round = 250"
   ]
  },
  {
   "cell_type": "code",
   "execution_count": 14,
   "id": "22aba9ac",
   "metadata": {},
   "outputs": [
    {
     "name": "stdout",
     "output_type": "stream",
     "text": [
      "[0]\ttrain-auc:0.60062\tvalid-auc:0.60195\n",
      "[100]\ttrain-auc:0.69594\tvalid-auc:0.65987\n",
      "[200]\ttrain-auc:0.72511\tvalid-auc:0.67672\n",
      "[249]\ttrain-auc:0.73391\tvalid-auc:0.69092\n"
     ]
    }
   ],
   "source": [
    "bst = xgb.train(params, dtrain, num_round, \n",
    "                evals=eval_list,\n",
    "                verbose_eval=100)"
   ]
  },
  {
   "cell_type": "code",
   "execution_count": 15,
   "id": "85d039dc",
   "metadata": {},
   "outputs": [],
   "source": [
    "bst.save_model('models/xgb400_aave_only')"
   ]
  },
  {
   "cell_type": "code",
   "execution_count": null,
   "id": "8463160a",
   "metadata": {},
   "outputs": [],
   "source": []
  },
  {
   "cell_type": "code",
   "execution_count": null,
   "id": "74f22316",
   "metadata": {},
   "outputs": [],
   "source": []
  }
 ],
 "metadata": {
  "kernelspec": {
   "display_name": "Python 3 (ipykernel)",
   "language": "python",
   "name": "python3"
  },
  "language_info": {
   "codemirror_mode": {
    "name": "ipython",
    "version": 3
   },
   "file_extension": ".py",
   "mimetype": "text/x-python",
   "name": "python",
   "nbconvert_exporter": "python",
   "pygments_lexer": "ipython3",
   "version": "3.9.2"
  }
 },
 "nbformat": 4,
 "nbformat_minor": 5
}
